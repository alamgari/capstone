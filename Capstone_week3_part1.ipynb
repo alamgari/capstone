{
 "cells": [
  {
   "cell_type": "code",
   "execution_count": 1,
   "metadata": {},
   "outputs": [
    {
     "name": "stdout",
     "output_type": "stream",
     "text": "Collecting package metadata (current_done\n\bdone\n\n## Package Plan ##\n\n  environment location: /opt/anaconda3\n\n  added / updated specs:\n    - beautifulsoup4\n\n\nThe following packages will be downloaded:\n\n    package                    |            build\n    ---------------------------|-----------------\n    beautifulsoup4-4.8.0       |           py37_0         147 KB  anaconda\n    ca-certificates-2019.8.28  |                0         133 KB  anaconda\n    certifi-2019.9.11          |           py37_0         154 KB  anaconda\n    conda-4.8.2                |           py37_0         3.0 MB  anaconda\n    openssl-1.1.1d             |       h1de35cc_2         3.4 MB  anaconda\n    ------------------------------------------------------------\n                                           Total:         6.9 MB\n\nThe following packages will be SUPERSEDED by a higher-priority channel:\n\n  beautifulsoup4                                  pkgs/main --> anaconda\n  ca-certificates                                 pkgs/main --> anaconda\n  certifi                                       conda-forge --> anaconda\n  conda                                         conda-forge --> anaconda\n  openssl                                         pkgs/main --> anaconda\n\n\nProceed ([y]/n)?"
    }
   ],
   "source": [
    "!conda install -c anaconda beautifulsoup4"
   ]
  },
  {
   "cell_type": "code",
   "execution_count": 1,
   "metadata": {},
   "outputs": [],
   "source": [
    "import pandas as pd\n",
    "import numpy as np\n",
    "import requests\n",
    "from bs4 import BeautifulSoup"
   ]
  },
  {
   "cell_type": "code",
   "execution_count": 2,
   "metadata": {},
   "outputs": [],
   "source": [
    "postal_code_data = requests.get('https://en.wikipedia.org/wiki/List_of_postal_codes_of_Canada:_M').text"
   ]
  },
  {
   "cell_type": "code",
   "execution_count": 3,
   "metadata": {},
   "outputs": [],
   "source": [
    "soup = BeautifulSoup(postal_code_data, 'html.parser')\n",
    "postal_list=[]\n",
    "borough_list=[]\n",
    "neighbor_list=[]\n",
    "table = soup.find('table')\n",
    "table_rows = table.find_all('tr')\n",
    "\n",
    "for tr in table_rows:\n",
    "    td = tr.find_all('td')\n",
    "    if (len(td)> 0):\n",
    "        postal_list.append(td[0].text)\n",
    "        borough_list.append(td[1].text)\n",
    "        neighbor_list.append(td[2].text.rstrip('\\n'))\n",
    "        "
   ]
  },
  {
   "cell_type": "code",
   "execution_count": 4,
   "metadata": {},
   "outputs": [
    {
     "data": {
      "text/html": "<div>\n<style scoped>\n    .dataframe tbody tr th:only-of-type {\n        vertical-align: middle;\n    }\n\n    .dataframe tbody tr th {\n        vertical-align: top;\n    }\n\n    .dataframe thead th {\n        text-align: right;\n    }\n</style>\n<table border=\"1\" class=\"dataframe\">\n  <thead>\n    <tr style=\"text-align: right;\">\n      <th></th>\n      <th>Postal Code</th>\n      <th>Borough</th>\n      <th>Neighborhood</th>\n    </tr>\n  </thead>\n  <tbody>\n    <tr>\n      <td>0</td>\n      <td>M1A</td>\n      <td>Not assigned</td>\n      <td>Not assigned</td>\n    </tr>\n    <tr>\n      <td>1</td>\n      <td>M2A</td>\n      <td>Not assigned</td>\n      <td>Not assigned</td>\n    </tr>\n    <tr>\n      <td>2</td>\n      <td>M3A</td>\n      <td>North York</td>\n      <td>Parkwoods</td>\n    </tr>\n    <tr>\n      <td>3</td>\n      <td>M4A</td>\n      <td>North York</td>\n      <td>Victoria Village</td>\n    </tr>\n    <tr>\n      <td>4</td>\n      <td>M5A</td>\n      <td>Downtown Toronto</td>\n      <td>Harbourfront</td>\n    </tr>\n  </tbody>\n</table>\n</div>",
      "text/plain": "  Postal Code           Borough      Neighborhood\n0         M1A      Not assigned      Not assigned\n1         M2A      Not assigned      Not assigned\n2         M3A        North York         Parkwoods\n3         M4A        North York  Victoria Village\n4         M5A  Downtown Toronto      Harbourfront"
     },
     "execution_count": 4,
     "metadata": {},
     "output_type": "execute_result"
    }
   ],
   "source": [
    "df = pd.DataFrame({\"Postal Code\": postal_list, \"Borough\": borough_list, \"Neighborhood\": neighbor_list})\n",
    "df.head()"
   ]
  },
  {
   "cell_type": "code",
   "execution_count": 5,
   "metadata": {},
   "outputs": [
    {
     "data": {
      "text/html": "<div>\n<style scoped>\n    .dataframe tbody tr th:only-of-type {\n        vertical-align: middle;\n    }\n\n    .dataframe tbody tr th {\n        vertical-align: top;\n    }\n\n    .dataframe thead th {\n        text-align: right;\n    }\n</style>\n<table border=\"1\" class=\"dataframe\">\n  <thead>\n    <tr style=\"text-align: right;\">\n      <th></th>\n      <th>Postal Code</th>\n      <th>Borough</th>\n      <th>Neighborhood</th>\n    </tr>\n  </thead>\n  <tbody>\n    <tr>\n      <td>0</td>\n      <td>M3A</td>\n      <td>North York</td>\n      <td>Parkwoods</td>\n    </tr>\n    <tr>\n      <td>1</td>\n      <td>M4A</td>\n      <td>North York</td>\n      <td>Victoria Village</td>\n    </tr>\n    <tr>\n      <td>2</td>\n      <td>M5A</td>\n      <td>Downtown Toronto</td>\n      <td>Harbourfront</td>\n    </tr>\n    <tr>\n      <td>3</td>\n      <td>M6A</td>\n      <td>North York</td>\n      <td>Lawrence Heights</td>\n    </tr>\n    <tr>\n      <td>4</td>\n      <td>M6A</td>\n      <td>North York</td>\n      <td>Lawrence Manor</td>\n    </tr>\n  </tbody>\n</table>\n</div>",
      "text/plain": "  Postal Code           Borough      Neighborhood\n0         M3A        North York         Parkwoods\n1         M4A        North York  Victoria Village\n2         M5A  Downtown Toronto      Harbourfront\n3         M6A        North York  Lawrence Heights\n4         M6A        North York    Lawrence Manor"
     },
     "execution_count": 5,
     "metadata": {},
     "output_type": "execute_result"
    }
   ],
   "source": [
    "df_without_not_assgined = df[df.Borough != 'Not assigned'].reset_index(drop=True)\n",
    "df_without_not_assgined.head()"
   ]
  },
  {
   "cell_type": "code",
   "execution_count": 8,
   "metadata": {},
   "outputs": [
    {
     "data": {
      "text/html": "<div>\n<style scoped>\n    .dataframe tbody tr th:only-of-type {\n        vertical-align: middle;\n    }\n\n    .dataframe tbody tr th {\n        vertical-align: top;\n    }\n\n    .dataframe thead th {\n        text-align: right;\n    }\n</style>\n<table border=\"1\" class=\"dataframe\">\n  <thead>\n    <tr style=\"text-align: right;\">\n      <th></th>\n      <th>Postal Code</th>\n      <th>Borough</th>\n      <th>Neighborhood</th>\n    </tr>\n  </thead>\n  <tbody>\n    <tr>\n      <td>0</td>\n      <td>M1B</td>\n      <td>Scarborough</td>\n      <td>Rouge, Malvern</td>\n    </tr>\n    <tr>\n      <td>1</td>\n      <td>M1C</td>\n      <td>Scarborough</td>\n      <td>Highland Creek, Rouge Hill, Port Union</td>\n    </tr>\n    <tr>\n      <td>2</td>\n      <td>M1E</td>\n      <td>Scarborough</td>\n      <td>Guildwood, Morningside, West Hill</td>\n    </tr>\n    <tr>\n      <td>3</td>\n      <td>M1G</td>\n      <td>Scarborough</td>\n      <td>Woburn</td>\n    </tr>\n    <tr>\n      <td>4</td>\n      <td>M1H</td>\n      <td>Scarborough</td>\n      <td>Cedarbrae</td>\n    </tr>\n  </tbody>\n</table>\n</div>",
      "text/plain": "  Postal Code      Borough                            Neighborhood\n0         M1B  Scarborough                          Rouge, Malvern\n1         M1C  Scarborough  Highland Creek, Rouge Hill, Port Union\n2         M1E  Scarborough       Guildwood, Morningside, West Hill\n3         M1G  Scarborough                                  Woburn\n4         M1H  Scarborough                               Cedarbrae"
     },
     "execution_count": 8,
     "metadata": {},
     "output_type": "execute_result"
    }
   ],
   "source": [
    "df_grouped_by_borough = df_without_not_assgined.groupby([\"Postal Code\", \"Borough\"], as_index=False).agg(lambda x: \", \".join(x))\n",
    "df_grouped_by_borough.head()"
   ]
  },
  {
   "cell_type": "code",
   "execution_count": 11,
   "metadata": {},
   "outputs": [
    {
     "data": {
      "text/html": "<div>\n<style scoped>\n    .dataframe tbody tr th:only-of-type {\n        vertical-align: middle;\n    }\n\n    .dataframe tbody tr th {\n        vertical-align: top;\n    }\n\n    .dataframe thead th {\n        text-align: right;\n    }\n</style>\n<table border=\"1\" class=\"dataframe\">\n  <thead>\n    <tr style=\"text-align: right;\">\n      <th></th>\n      <th>Postal Code</th>\n      <th>Borough</th>\n      <th>Neighborhood</th>\n    </tr>\n  </thead>\n  <tbody>\n    <tr>\n      <td>0</td>\n      <td>M1B</td>\n      <td>Scarborough</td>\n      <td>Rouge, Malvern</td>\n    </tr>\n    <tr>\n      <td>1</td>\n      <td>M1C</td>\n      <td>Scarborough</td>\n      <td>Highland Creek, Rouge Hill, Port Union</td>\n    </tr>\n    <tr>\n      <td>2</td>\n      <td>M1E</td>\n      <td>Scarborough</td>\n      <td>Guildwood, Morningside, West Hill</td>\n    </tr>\n    <tr>\n      <td>3</td>\n      <td>M1G</td>\n      <td>Scarborough</td>\n      <td>Woburn</td>\n    </tr>\n    <tr>\n      <td>4</td>\n      <td>M1H</td>\n      <td>Scarborough</td>\n      <td>Cedarbrae</td>\n    </tr>\n    <tr>\n      <td>5</td>\n      <td>M1J</td>\n      <td>Scarborough</td>\n      <td>Scarborough Village</td>\n    </tr>\n    <tr>\n      <td>6</td>\n      <td>M1K</td>\n      <td>Scarborough</td>\n      <td>East Birchmount Park, Ionview, Kennedy Park</td>\n    </tr>\n    <tr>\n      <td>7</td>\n      <td>M1L</td>\n      <td>Scarborough</td>\n      <td>Clairlea, Golden Mile, Oakridge</td>\n    </tr>\n    <tr>\n      <td>8</td>\n      <td>M1M</td>\n      <td>Scarborough</td>\n      <td>Cliffcrest, Cliffside, Scarborough Village West</td>\n    </tr>\n    <tr>\n      <td>9</td>\n      <td>M1N</td>\n      <td>Scarborough</td>\n      <td>Birch Cliff, Cliffside West</td>\n    </tr>\n    <tr>\n      <td>10</td>\n      <td>M1P</td>\n      <td>Scarborough</td>\n      <td>Dorset Park, Scarborough Town Centre, Wexford ...</td>\n    </tr>\n    <tr>\n      <td>11</td>\n      <td>M1R</td>\n      <td>Scarborough</td>\n      <td>Maryvale, Wexford</td>\n    </tr>\n  </tbody>\n</table>\n</div>",
      "text/plain": "   Postal Code      Borough                                       Neighborhood\n0          M1B  Scarborough                                     Rouge, Malvern\n1          M1C  Scarborough             Highland Creek, Rouge Hill, Port Union\n2          M1E  Scarborough                  Guildwood, Morningside, West Hill\n3          M1G  Scarborough                                             Woburn\n4          M1H  Scarborough                                          Cedarbrae\n5          M1J  Scarborough                                Scarborough Village\n6          M1K  Scarborough        East Birchmount Park, Ionview, Kennedy Park\n7          M1L  Scarborough                    Clairlea, Golden Mile, Oakridge\n8          M1M  Scarborough    Cliffcrest, Cliffside, Scarborough Village West\n9          M1N  Scarborough                        Birch Cliff, Cliffside West\n10         M1P  Scarborough  Dorset Park, Scarborough Town Centre, Wexford ...\n11         M1R  Scarborough                                  Maryvale, Wexford"
     },
     "execution_count": 11,
     "metadata": {},
     "output_type": "execute_result"
    }
   ],
   "source": [
    "# if neighborhood is not assigned we should assign the boroughs value to the neighborhood\n",
    "for index, row in df_grouped_by_borough.iterrows():\n",
    "    if row['Neighborhood'] == 'Not assigned':\n",
    "        row['Neighborhood'] = row['Borough']\n",
    "\n",
    "df_grouped_by_borough.head(12)"
   ]
  },
  {
   "cell_type": "code",
   "execution_count": 13,
   "metadata": {},
   "outputs": [
    {
     "data": {
      "text/plain": "(103, 3)"
     },
     "execution_count": 13,
     "metadata": {},
     "output_type": "execute_result"
    }
   ],
   "source": [
    "df_grouped_by_borough.shape"
   ]
  },
  {
   "cell_type": "code",
   "execution_count": null,
   "metadata": {},
   "outputs": [],
   "source": []
  }
 ],
 "metadata": {
  "kernelspec": {
   "display_name": "Python 3.7.4 64-bit ('base': conda)",
   "language": "python",
   "name": "python37464bitbaseconda1b66bce8566e40c0870504c30e397975"
  },
  "language_info": {
   "codemirror_mode": {
    "name": "ipython",
    "version": 3
   },
   "file_extension": ".py",
   "mimetype": "text/x-python",
   "name": "python",
   "nbconvert_exporter": "python",
   "pygments_lexer": "ipython3",
   "version": "3.7.4-final"
  }
 },
 "nbformat": 4,
 "nbformat_minor": 2
}